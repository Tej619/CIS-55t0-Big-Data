{
  "nbformat": 4,
  "nbformat_minor": 0,
  "metadata": {
    "colab": {
      "provenance": []
    },
    "kernelspec": {
      "name": "python3",
      "display_name": "Python 3"
    },
    "language_info": {
      "name": "python"
    }
  },
  "cells": [
    {
      "cell_type": "markdown",
      "source": [
        "To install Pyspark on collab."
      ],
      "metadata": {
        "id": "3wkGkhkVzdIF"
      }
    },
    {
      "cell_type": "code",
      "execution_count": 148,
      "metadata": {
        "colab": {
          "base_uri": "https://localhost:8080/"
        },
        "id": "tJ4R4tsoQyvS",
        "outputId": "31877daa-0f97-4e6c-b572-36591440b41e"
      },
      "outputs": [
        {
          "output_type": "stream",
          "name": "stdout",
          "text": [
            "Requirement already satisfied: pyspark in /usr/local/lib/python3.12/dist-packages (3.5.1)\n",
            "Requirement already satisfied: py4j==0.10.9.7 in /usr/local/lib/python3.12/dist-packages (from pyspark) (0.10.9.7)\n"
          ]
        }
      ],
      "source": [
        "!pip install pyspark"
      ]
    },
    {
      "cell_type": "markdown",
      "source": [
        "I was getting error with wget so instead I used gdown libraby to download file from my google drive."
      ],
      "metadata": {
        "id": "Cuqpvjd75-dI"
      }
    },
    {
      "cell_type": "code",
      "source": [
        "import gdown\n",
        "\n",
        "google_drive_link = \"https://drive.google.com/file/d/1pIrdanDpJVX3-G7kQfXBNRkjUGzGGFf0/view?usp=drive_link\"\n",
        "output_path = \"Sample.txt\"\n",
        "\n",
        "gdown.download(google_drive_link, output_path, quiet=False, fuzzy=True)\n",
        "print(\"File downloaded successfully \\n\")"
      ],
      "metadata": {
        "colab": {
          "base_uri": "https://localhost:8080/"
        },
        "id": "J8cC_gQmzwQh",
        "outputId": "89f948fd-091b-41b7-955b-e5533460d4a3"
      },
      "execution_count": 149,
      "outputs": [
        {
          "output_type": "stream",
          "name": "stderr",
          "text": [
            "Downloading...\n",
            "From: https://drive.google.com/uc?id=1pIrdanDpJVX3-G7kQfXBNRkjUGzGGFf0\n",
            "To: /content/Sample.txt\n",
            "100%|██████████| 4.98M/4.98M [00:00<00:00, 50.7MB/s]"
          ]
        },
        {
          "output_type": "stream",
          "name": "stdout",
          "text": [
            "File downloaded successfully \n",
            "\n"
          ]
        },
        {
          "output_type": "stream",
          "name": "stderr",
          "text": [
            "\n"
          ]
        }
      ]
    },
    {
      "cell_type": "markdown",
      "source": [
        "Download the pyspark library and start spark Session."
      ],
      "metadata": {
        "id": "HQvLe2xR6Jqk"
      }
    },
    {
      "cell_type": "code",
      "source": [
        "from pyspark import SparkContext, SparkConf\n",
        "from pyspark.sql import SparkSession\n",
        "\n",
        "# conf = SparkConf().setAppName(\"sixWordCount\")\n",
        "# sc = SparkContext(conf=conf)\n",
        "\n",
        "sqlContext = SparkSession.builder \\\n",
        "    .master(\"local[*]\") \\\n",
        "    .appName(\"Colab\") \\\n",
        "    .config('spark.ui.port', '4050') \\\n",
        "    .getOrCreate()\n",
        "\n",
        "sc = sqlContext.sparkContext"
      ],
      "metadata": {
        "id": "IqOFRFmnRBRm"
      },
      "execution_count": 150,
      "outputs": []
    },
    {
      "cell_type": "code",
      "source": [
        "inputFile = output_path"
      ],
      "metadata": {
        "id": "5BJm0PVTUG4K"
      },
      "execution_count": 151,
      "outputs": []
    },
    {
      "cell_type": "code",
      "source": [
        "rdd = sc.textFile(inputFile)"
      ],
      "metadata": {
        "id": "U5dt7dNH2Mw5"
      },
      "execution_count": 152,
      "outputs": []
    },
    {
      "cell_type": "markdown",
      "source": [
        "Used the regular expression to remove the puncutations"
      ],
      "metadata": {
        "id": "OSCEs0mRGek9"
      }
    },
    {
      "cell_type": "code",
      "source": [
        "import re\n",
        "\n",
        "def six_word_sequence(line):\n",
        "    words = re.findall(r'\\b\\w+\\b', line.lower())\n",
        "\n",
        "    sequence = []\n",
        "    for i in range(len(words) - 5):\n",
        "        six_word_seq = ' '.join(words[i:i+6])\n",
        "        sequence.append(six_word_seq)\n",
        "\n",
        "    return sequence"
      ],
      "metadata": {
        "id": "Ke2MsZKO1b6w"
      },
      "execution_count": 153,
      "outputs": []
    },
    {
      "cell_type": "code",
      "source": [
        "six_word_lines = rdd.flatMap(six_word_sequence)"
      ],
      "metadata": {
        "id": "m4hQCk0m1qo7"
      },
      "execution_count": 154,
      "outputs": []
    },
    {
      "cell_type": "code",
      "source": [
        "count = six_word_lines \\\n",
        "    .map(lambda seq: (seq, 1)) \\\n",
        "    .reduceByKey(lambda a, b: a + b)"
      ],
      "metadata": {
        "id": "yZjr2vlx1rWG"
      },
      "execution_count": 155,
      "outputs": []
    },
    {
      "cell_type": "markdown",
      "source": [
        "To sort the maximum occurance of 6 words sequence I used it as descending."
      ],
      "metadata": {
        "id": "_39sDeICDeZ9"
      }
    },
    {
      "cell_type": "code",
      "source": [
        "sorted_counts = count.sortBy(lambda x: x[1], ascending=False)"
      ],
      "metadata": {
        "id": "F7W2DU7n1rWt"
      },
      "execution_count": 156,
      "outputs": []
    },
    {
      "cell_type": "code",
      "source": [
        "output = \"six_word_lines.txt\""
      ],
      "metadata": {
        "id": "SUKu5vm91rZQ"
      },
      "execution_count": 157,
      "outputs": []
    },
    {
      "cell_type": "code",
      "source": [
        "sorted_counts.map(lambda x: f\"{x[0]} | count: {x[1]}\") \\\n",
        "    .saveAsTextFile(output)\n"
      ],
      "metadata": {
        "id": "w95VPL2Q1rb1"
      },
      "execution_count": 158,
      "outputs": []
    },
    {
      "cell_type": "code",
      "source": [
        "print(\"To check top 20 lines \\n --------\");\n",
        "\n",
        "top_20 = sorted_counts.take(20)\n",
        "#Did not use collect() to avoid memory leaks.\n",
        "for sequence, count in top_20:\n",
        "    print(f\"{sequence} | Count: {count}\")\n"
      ],
      "metadata": {
        "colab": {
          "base_uri": "https://localhost:8080/"
        },
        "id": "TOVilI5_1rd7",
        "outputId": "756c5227-d1ea-4278-d027-2882dba14e42"
      },
      "execution_count": 159,
      "outputs": [
        {
          "output_type": "stream",
          "name": "stdout",
          "text": [
            "To check top 20 lines \n",
            " --------\n",
            "complete but modified works of william | Count: 221\n",
            "1990 1993 by world library inc | Count: 221\n",
            "use only and 2 are not | Count: 221\n",
            "the complete but modified works of | Count: 221\n",
            "provided by project gutenberg etext of | Count: 221\n",
            "personal use only and 2 are | Count: 221\n",
            "this electronic version of the complete | Count: 220\n",
            "version of the complete but modified | Count: 220\n",
            "of the complete but modified works | Count: 220\n",
            "copyright 1990 1993 by world library | Count: 220\n",
            "project gutenberg etext of illinois benedictine | Count: 220\n",
            "gutenberg etext of illinois benedictine college | Count: 220\n",
            "2 are not distributed or used | Count: 220\n",
            "electronic version of the complete but | Count: 220\n",
            "1993 by world library inc and | Count: 220\n",
            "by world library inc and is | Count: 220\n",
            "by project gutenberg etext of illinois | Count: 220\n",
            "only and 2 are not distributed | Count: 220\n",
            "and 2 are not distributed or | Count: 220\n",
            "so long as such copies 1 | Count: 219\n"
          ]
        }
      ]
    },
    {
      "cell_type": "code",
      "source": [
        "sqlContext.stop()"
      ],
      "metadata": {
        "id": "k-uipLN018vt"
      },
      "execution_count": 160,
      "outputs": []
    },
    {
      "cell_type": "markdown",
      "source": [
        "If you want to re run the code again run the block below."
      ],
      "metadata": {
        "id": "gcRRD4rtCEXc"
      }
    },
    {
      "cell_type": "code",
      "source": [
        "# import shutil\n",
        "# import os\n",
        "\n",
        "# if os.path.exists(output):\n",
        "#     shutil.rmtree(output)\n",
        "#     print(f\"To Remove the existing output directory if code need to rerun\")"
      ],
      "metadata": {
        "id": "unnFJTBLAgmf"
      },
      "execution_count": 161,
      "outputs": []
    }
  ]
}